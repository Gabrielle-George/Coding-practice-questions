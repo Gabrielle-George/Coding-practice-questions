{
 "cells": [
  {
   "cell_type": "markdown",
   "metadata": {},
   "source": [
    "###recursively names a number"
   ]
  },
  {
   "cell_type": "code",
   "execution_count": 26,
   "metadata": {},
   "outputs": [
    {
     "name": "stdout",
     "output_type": "stream",
     "text": [
      "\n",
      "five \n",
      "four five \n",
      "three four five \n",
      "1\n",
      "2\n",
      "3\n",
      "4\n",
      "None\n"
     ]
    }
   ],
   "source": [
    "#takes an integer and names it\n",
    "    \n",
    "def num_to_str(num, fin_num_str):\n",
    "    str_num = str(num)\n",
    "    num_len = len(str_num)\n",
    "    \n",
    "    prefixes = int(num_len/3)\n",
    "    place = num_len%3\n",
    "    \n",
    "    if num_len ==1:\n",
    "        fin_num_str =  num_dict[str_num] + \" \" + fin_num_str \n",
    "        return fin_num_str\n",
    "    else:\n",
    "        print(fin_num_str)\n",
    "        num_to_str(str_num[0:-1], num_dict[str_num[-1]] + \" \" + fin_num_str)\n",
    "        print(len(str_num[0:-1]))\n",
    "        \n",
    "        \n",
    "        \n",
    "num = 12345\n",
    "num_dict = {\"1\":\"one\",\"2\":\"two\", \"3\":\"three\", \"4\":\"four\", \"5\":\"five\",\"6\":\"six\",\"7\":\"seven\",\"8\":\"eight\",\"9\":\"nine\",\\\n",
    "            \"10\":\"ten\",\"11\":\"eleven\",\"12\":\"twelve\",\"13\":\"thirteen\",\"14\":\"fourteen\",\"15\":\"fifteen\",\"16\":\"sixteen\"}\n",
    "\n",
    "tnes_dict = {}\n",
    "prefix_dict = {1:\"thousand\", 2:\"million\",3:\"billion\"}\n",
    "\n",
    "final_str = \"\"\n",
    "fin_str = num_to_str(num, final_str)\n",
    "\n",
    "print(fin_str)"
   ]
  },
  {
   "cell_type": "code",
   "execution_count": 14,
   "metadata": {},
   "outputs": [
    {
     "data": {
      "text/plain": [
       "'four'"
      ]
     },
     "execution_count": 14,
     "metadata": {},
     "output_type": "execute_result"
    }
   ],
   "source": [
    "num = \"12345\"\n",
    "num_dict[num[-2]]\n"
   ]
  },
  {
   "cell_type": "code",
   "execution_count": 220,
   "metadata": {},
   "outputs": [
    {
     "data": {
      "text/plain": [
       "'one hundred  million   million   million  '"
      ]
     },
     "execution_count": 220,
     "metadata": {},
     "output_type": "execute_result"
    }
   ],
   "source": [
    "num_dict = {\"1\":\"one\",\"2\":\"two\", \"3\":\"three\", \"4\":\"four\", \"5\":\"five\",\"6\":\"six\",\"7\":\"seven\",\"8\":\"eight\",\"9\":\"nine\",\\\n",
    "            \"10\":\"ten\",\"11\":\"eleven\",\"12\":\"twelve\",\"13\":\"thirteen\",\"14\":\"fourteen\",\"15\":\"fifteen\",\"16\":\"sixteen\", \"0\":\"\"}\n",
    "tens_dict = {\"2\":\"twenty\",\"3\":\"thirty\",\"4\":\"forty\", \"5\":\"fifty\", \"6\":\"sixty\",\"7\":\"seventy\",\"8\":\"eighty\",\"9\":\"ninety\"}\n",
    "\n",
    "places_dict = {\"2\":\"hundred\", \"3\":\"thousand\",\"6\":\"million\",\"9\":\"billion\"}\n",
    "def to_english(num):\n",
    "    num_log = int(np.log10(int(num)+.000001))\n",
    "    if int(num) <20:\n",
    "        return num_dict[str(num)]\n",
    "    elif int(num) <100:\n",
    "        return tens_dict[str(num)[0]] + \" \" + to_english(str(num)[-1])\n",
    "    elif int(num) <1000:\n",
    "        final_str = num_dict[str(num)[0]]# + \" \" + places_dict[str(int(num_log))]\n",
    "        return final_str + \" hundred \" + to_english(int(str(num)[1:]))\n",
    "    elif int(num) < 1000000:\n",
    "        final_str = to_english(str(num)[0:num_log-2]) + \" thousand \"\n",
    "        return final_str + \" \" + to_english(int(str(num)[num_log- 2:]))\n",
    "    if num_log > 5 :\n",
    "        final_str = to_english(str(num)[0:num_log-5]) + \" million \" \n",
    "        return final_str + \" \" +  to_english(int(str(num)[num_log- 5:]))\n",
    "        \n",
    "\n",
    "        \n",
    "        \n",
    "to_english(100000000000000000000)"
   ]
  },
  {
   "cell_type": "code",
   "execution_count": 105,
   "metadata": {},
   "outputs": [
    {
     "data": {
      "text/plain": [
       "4"
      ]
     },
     "execution_count": 105,
     "metadata": {},
     "output_type": "execute_result"
    }
   ],
   "source": [
    "import numpy as np\n",
    "int(np.log10(10000))"
   ]
  },
  {
   "cell_type": "code",
   "execution_count": 107,
   "metadata": {},
   "outputs": [
    {
     "data": {
      "text/plain": [
       "'12'"
      ]
     },
     "execution_count": 107,
     "metadata": {},
     "output_type": "execute_result"
    }
   ],
   "source": [
    "\"12345\"[0:2]"
   ]
  },
  {
   "cell_type": "code",
   "execution_count": 191,
   "metadata": {},
   "outputs": [
    {
     "data": {
      "text/plain": [
       "1"
      ]
     },
     "execution_count": 191,
     "metadata": {},
     "output_type": "execute_result"
    }
   ],
   "source": [
    "int(\"01\")"
   ]
  },
  {
   "cell_type": "code",
   "execution_count": null,
   "metadata": {},
   "outputs": [],
   "source": []
  }
 ],
 "metadata": {
  "kernelspec": {
   "display_name": "Python 3",
   "language": "python",
   "name": "python3"
  },
  "language_info": {
   "codemirror_mode": {
    "name": "ipython",
    "version": 3
   },
   "file_extension": ".py",
   "mimetype": "text/x-python",
   "name": "python",
   "nbconvert_exporter": "python",
   "pygments_lexer": "ipython3",
   "version": "3.6.5"
  }
 },
 "nbformat": 4,
 "nbformat_minor": 2
}
